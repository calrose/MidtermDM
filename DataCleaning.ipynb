{
  "nbformat": 4,
  "nbformat_minor": 0,
  "metadata": {
    "colab": {
      "name": "DataCleaning.ipynb",
      "provenance": [],
      "authorship_tag": "ABX9TyMYa84RXTUmFLCkbRyoFt/e",
      "include_colab_link": true
    },
    "kernelspec": {
      "name": "python3",
      "display_name": "Python 3"
    },
    "language_info": {
      "name": "python"
    }
  },
  "cells": [
    {
      "cell_type": "markdown",
      "metadata": {
        "id": "view-in-github",
        "colab_type": "text"
      },
      "source": [
        "<a href=\"https://colab.research.google.com/github/calrose/MidtermDM/blob/main/DataCleaning.ipynb\" target=\"_parent\"><img src=\"https://colab.research.google.com/assets/colab-badge.svg\" alt=\"Open In Colab\"/></a>"
      ]
    },
    {
      "cell_type": "code",
      "metadata": {
        "colab": {
          "base_uri": "https://localhost:8080/"
        },
        "id": "nXHFp9-HFZRQ",
        "outputId": "a9c45065-78bb-4b5f-d1cf-36bb1e94a200"
      },
      "source": [
        "import pandas as pd\n",
        "import numpy as np\n",
        "\n",
        "FlickrData = pd.read_csv('https://github.com/realpython/python-data-cleaning/raw/master/Datasets/BL-Flickr-Images-Book.csv')\n",
        "\n",
        "FlickrData['Corporate Contributors'].isna().value_counts()\n",
        "\n",
        "to_drop = ['Former owner', 'Engraver', 'Corporate Author', 'Corporate Contributors', 'Edition Statement']\n",
        "\n",
        "FlickrData.drop(columns=to_drop, inplace=True)\n",
        "FlickrData.set_index('Identifier', inplace=True)\n",
        "\n",
        "regex = r'^(\\d{4})'\n",
        "\n",
        "FlickrDataExtr = FlickrData['Date of Publication'].str.extract(regex, expand=False)\n",
        "\n",
        "FlickrData['Date of Publication'] = pd.to_numeric(FlickrDataExtr)\n",
        "\n",
        "FlickerDataPop = FlickrData['Place of Publication']\n",
        "\n",
        "london = FlickerDataPop.str.contains('London')\n",
        "\n",
        "oxford = FlickerDataPop.str.contains('Oxford')\n",
        "\n",
        "FlickrData['Place of Publication'] = np.where(london, 'London', np.where(oxford, 'Oxford', FlickerDataPop.str.replace('-', ' ')))\n",
        "\n",
        "FlickrData['Place of Publication'].head(10)"
      ],
      "execution_count": null,
      "outputs": [
        {
          "output_type": "execute_result",
          "data": {
            "text/plain": [
              "Identifier\n",
              "206     London\n",
              "216     London\n",
              "218     London\n",
              "472     London\n",
              "480     London\n",
              "481     London\n",
              "519     London\n",
              "667     Oxford\n",
              "874     London\n",
              "1143    London\n",
              "Name: Place of Publication, dtype: object"
            ]
          },
          "metadata": {},
          "execution_count": 5
        }
      ]
    },
    {
      "cell_type": "code",
      "metadata": {
        "colab": {
          "base_uri": "https://localhost:8080/",
          "height": 206
        },
        "id": "MWbztw69r-fT",
        "outputId": "493b597a-3a88-4f71-9ec8-7be843b341a3"
      },
      "source": [
        "import pandas as pd\n",
        "import numpy as np\n",
        "\n",
        "university_towns = []\n",
        "\n",
        "with open('/content/university_towns.txt') as file:\n",
        "  for line in file:\n",
        "    if '[edit]' in line:\n",
        "      state = line\n",
        "    else:\n",
        "      university_towns.append((state, line))\n",
        "\n",
        "university_towns[:5]\n",
        "\n",
        "towns_df = pd.DataFrame(university_towns, columns=['State', 'RegionName'])\n",
        "\n",
        "towns_df.head()\n",
        "\n",
        "#towns_df['State'] = towns_df['State'].str.replace('\\[edit\\]\\\\n', '')\n",
        "\n",
        "def get_citystate(item):\n",
        "  if ')' in item:\n",
        "    return item[:item.find(')')+1]\n",
        "  elif '[' in item:\n",
        "    return item[:item.find('[')]\n",
        "  else:\n",
        "    return item\n",
        "\n",
        "towns_df = towns_df.applymap(get_citystate)\n",
        "\n",
        "towns_df.head()\n",
        "\n"
      ],
      "execution_count": null,
      "outputs": [
        {
          "output_type": "execute_result",
          "data": {
            "text/html": [
              "<div>\n",
              "<style scoped>\n",
              "    .dataframe tbody tr th:only-of-type {\n",
              "        vertical-align: middle;\n",
              "    }\n",
              "\n",
              "    .dataframe tbody tr th {\n",
              "        vertical-align: top;\n",
              "    }\n",
              "\n",
              "    .dataframe thead th {\n",
              "        text-align: right;\n",
              "    }\n",
              "</style>\n",
              "<table border=\"1\" class=\"dataframe\">\n",
              "  <thead>\n",
              "    <tr style=\"text-align: right;\">\n",
              "      <th></th>\n",
              "      <th>State</th>\n",
              "      <th>RegionName</th>\n",
              "    </tr>\n",
              "  </thead>\n",
              "  <tbody>\n",
              "    <tr>\n",
              "      <th>0</th>\n",
              "      <td>Alabama</td>\n",
              "      <td>Auburn (Auburn University)</td>\n",
              "    </tr>\n",
              "    <tr>\n",
              "      <th>1</th>\n",
              "      <td>Alabama</td>\n",
              "      <td>Florence (University of North Alabama)</td>\n",
              "    </tr>\n",
              "    <tr>\n",
              "      <th>2</th>\n",
              "      <td>Alabama</td>\n",
              "      <td>Jacksonville (Jacksonville State University)</td>\n",
              "    </tr>\n",
              "    <tr>\n",
              "      <th>3</th>\n",
              "      <td>Alabama</td>\n",
              "      <td>Livingston (University of West Alabama)</td>\n",
              "    </tr>\n",
              "    <tr>\n",
              "      <th>4</th>\n",
              "      <td>Alabama</td>\n",
              "      <td>Montevallo (University of Montevallo)</td>\n",
              "    </tr>\n",
              "  </tbody>\n",
              "</table>\n",
              "</div>"
            ],
            "text/plain": [
              "     State                                    RegionName\n",
              "0  Alabama                    Auburn (Auburn University)\n",
              "1  Alabama        Florence (University of North Alabama)\n",
              "2  Alabama  Jacksonville (Jacksonville State University)\n",
              "3  Alabama       Livingston (University of West Alabama)\n",
              "4  Alabama         Montevallo (University of Montevallo)"
            ]
          },
          "metadata": {},
          "execution_count": 11
        }
      ]
    }
  ]
}