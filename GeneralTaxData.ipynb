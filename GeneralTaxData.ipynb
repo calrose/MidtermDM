{
  "nbformat": 4,
  "nbformat_minor": 0,
  "metadata": {
    "colab": {
      "name": "GeneralTaxData.ipynb",
      "provenance": [],
      "authorship_tag": "ABX9TyMlouYmxcxfOGDSldE0hiOn",
      "include_colab_link": true
    },
    "kernelspec": {
      "name": "python3",
      "display_name": "Python 3"
    },
    "language_info": {
      "name": "python"
    }
  },
  "cells": [
    {
      "cell_type": "markdown",
      "metadata": {
        "id": "view-in-github",
        "colab_type": "text"
      },
      "source": [
        "<a href=\"https://colab.research.google.com/github/calrose/MidtermDM/blob/main/GeneralTaxData.ipynb\" target=\"_parent\"><img src=\"https://colab.research.google.com/assets/colab-badge.svg\" alt=\"Open In Colab\"/></a>"
      ]
    },
    {
      "cell_type": "code",
      "metadata": {
        "colab": {
          "base_uri": "https://localhost:8080/"
        },
        "id": "SzSddZxMBDYM",
        "outputId": "b00aa048-1701-4299-b687-90086cace88a"
      },
      "source": [
        "import numpy as np\n",
        "import pandas as pd\n",
        "from sklearn import linear_model as lm\n",
        "\n",
        "Data = pd.read_csv('/content/tableconvert_csv_so70jx.csv')\n",
        "\n",
        "targetFeatureFrame = pd.DataFrame({'variety': [1, 2, 3]}, dtype=np.float, index=['Setosa', 'Versicolor', 'Virginica'])\n",
        "targetFeature = targetFeatureFrame[targetFeatureFrame.isin(targetFeatureFrame['variety'].value_counts())] = 'variety'\n",
        "\n",
        "print(targetFeature)\n",
        "dataFeatures = Data.drop(targetFeature, axis=1)\n",
        "\n",
        "MostImportantFeature = dataFeatures.std().sort_values(ascending=False)[0:1]\n",
        "\n",
        "xb = np.array(dataFeatures[MostImportantFeature.index[0]])\n",
        "xb = xb.reshape(-1,1)\n",
        "\n",
        "yb = np.array(Data[targetFeature])\n",
        "yb = yb.reshape(-1,1)\n",
        "\n",
        "print(Data[targetFeature])\n",
        "\n",
        "#bestModel = lm.LinearRegression().fit(xb,yb)\n",
        "#BMscore = bestModel.score(xb,yb)\n",
        "\n",
        "#BestDataModel = Data[[targetFeature, MostImportantFeature.index[0]]]\n",
        "\n",
        "#print(BMscore)\n",
        "#print(BestDataModel.head())"
      ],
      "execution_count": null,
      "outputs": [
        {
          "output_type": "stream",
          "name": "stdout",
          "text": [
            "variety\n",
            "0         Setosa\n",
            "1         Setosa\n",
            "2         Setosa\n",
            "3         Setosa\n",
            "4         Setosa\n",
            "         ...    \n",
            "145    Virginica\n",
            "146    Virginica\n",
            "147    Virginica\n",
            "148    Virginica\n",
            "149    Virginica\n",
            "Name: variety, Length: 150, dtype: object\n"
          ]
        }
      ]
    }
  ]
}