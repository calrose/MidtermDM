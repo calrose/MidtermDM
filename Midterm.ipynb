{
  "nbformat": 4,
  "nbformat_minor": 0,
  "metadata": {
    "colab": {
      "name": "Midterm.ipynb",
      "provenance": [],
      "authorship_tag": "ABX9TyOUcKTvd++Jp+VCYw3sddf4",
      "include_colab_link": true
    },
    "kernelspec": {
      "name": "python3",
      "display_name": "Python 3"
    },
    "language_info": {
      "name": "python"
    }
  },
  "cells": [
    {
      "cell_type": "markdown",
      "metadata": {
        "id": "view-in-github",
        "colab_type": "text"
      },
      "source": [
        "<a href=\"https://colab.research.google.com/github/calrose/MidtermDM/blob/main/Midterm.ipynb\" target=\"_parent\"><img src=\"https://colab.research.google.com/assets/colab-badge.svg\" alt=\"Open In Colab\"/></a>"
      ]
    },
    {
      "cell_type": "code",
      "metadata": {
        "colab": {
          "base_uri": "https://localhost:8080/"
        },
        "id": "kfN3F3rlt1Pv",
        "outputId": "2918e274-ef6d-4aeb-d8bf-7bb0fee2dab4"
      },
      "source": [
        "import numpy as np\n",
        "import pandas as pd\n",
        "from sklearn import linear_model as lm\n",
        "from sklearn.model_selection import train_test_split\n",
        "import matplotlib.pyplot as plt\n",
        "\n",
        "irisData = pd.read_csv('/content/irisdata.csv')\n",
        "\n",
        "irisData['sepal_length'] = irisData['sepal_length'].str.replace('$', '')\n",
        "\n",
        "irisData['sepal_width'] = irisData['sepal_width'].str.replace('%', '')\n",
        "\n",
        "irisData[' petal_length '] = irisData[' petal_length '].str.replace(',', '')\n",
        "\n",
        "irisData[' petal_length '] = irisData[' petal_length '].str.replace('.', '')\n",
        "\n",
        "irisData['petal_width'] = irisData['petal_width'].str.replace('.', '')\n",
        "\n",
        "irisData['petal_width'] = irisData['petal_width'].str.replace('t', '')\n",
        "\n",
        "irisData = irisData.astype({'sepal_length' : 'float64', 'sepal_width' : 'float64', ' petal_length ' : 'float64', 'petal_width' : 'float64', 'species' : 'string'})\n",
        "\n",
        "#irisData['sepal_width'] = irisData['sepal_width'] / 100\n",
        "\n",
        "#irisData.dtypes\n",
        "\n",
        "#irisData.head()\n",
        "X_train, X_test, Y_train, Y_test = train_test_split(irisData[' petal_length '], irisData['petal_width'], test_size=.25)\n",
        "\n",
        "TargetFeature = \"species\"\n",
        "\n",
        "dataFeatures = irisData.drop(TargetFeature, axis=1)\n",
        "\n",
        "MostImportantFeature = irisData[' petal_length ']\n",
        "SecondImportantFeature = irisData['petal_width']\n",
        "\n",
        "xb = np.array(X_train)\n",
        "xb = xb.reshape(-1,1)\n",
        "yb = np.array(Y_train)\n",
        "yb = yb.reshape(-1,1)\n",
        "\n",
        "xb_test = np.array(X_test)\n",
        "xb_test = xb.reshape(-1,1)\n",
        "yb_test = np.array(Y_test)\n",
        "yb_test = yb.reshape(-1,1)\n",
        "\n",
        "bestModel = lm.LinearRegression().fit(xb,yb)"
      ],
      "execution_count": 34,
      "outputs": [
        {
          "output_type": "execute_result",
          "data": {
            "text/plain": [
              "sepal_length           0.828066\n",
              "sepal_width           43.359431\n",
              " petal_length     175613.384834\n",
              "petal_width          185.669769\n",
              "ID                     0.290292\n",
              "dtype: float64"
            ]
          },
          "metadata": {},
          "execution_count": 34
        }
      ]
    }
  ]
}