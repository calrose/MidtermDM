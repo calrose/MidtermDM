{
  "nbformat": 4,
  "nbformat_minor": 0,
  "metadata": {
    "colab": {
      "name": "Untitled0.ipynb",
      "provenance": [],
      "authorship_tag": "ABX9TyMHGTxKRtcbpEMrDgRjyjEN",
      "include_colab_link": true
    },
    "kernelspec": {
      "name": "python3",
      "display_name": "Python 3"
    },
    "language_info": {
      "name": "python"
    }
  },
  "cells": [
    {
      "cell_type": "markdown",
      "metadata": {
        "id": "view-in-github",
        "colab_type": "text"
      },
      "source": [
        "<a href=\"https://colab.research.google.com/github/calrose/MidtermDM/blob/main/MathRefresher.ipynb\" target=\"_parent\"><img src=\"https://colab.research.google.com/assets/colab-badge.svg\" alt=\"Open In Colab\"/></a>"
      ]
    },
    {
      "cell_type": "code",
      "metadata": {
        "id": "1btaKFTpfTxy",
        "colab": {
          "base_uri": "https://localhost:8080/",
          "height": 435
        },
        "outputId": "7b1cb35d-f241-4495-84e1-7f511a8b57a5"
      },
      "source": [
        "import numpy as np\n",
        "import pandas as pd\n",
        "from sklearn.linear_model import LinearRegression\n",
        "from scipy import stats\n",
        "import matplotlib\n",
        "\n",
        "x = np.random.rand(100)\n",
        "y = np.random.rand(100)\n",
        "np.log(x)\n",
        "print(np.median(x))\n",
        "print(np.mean(x))\n",
        "print(np.std(x))\n",
        "print(stats.median_absolute_deviation(x))\n",
        "print(np.correlate(x, y))\n",
        "print(np.corrcoef(x, y))\n",
        "print(matplotlib.pyplot.scatter(x, y))\n",
        "model = LinearRegression().fit(x.reshape(-1, 1), y.reshape(-1, 1))\n",
        "\n",
        "r= model.score(x.reshape(-1, 1), y.reshape(-1, 1))\n",
        "print(r)\n",
        "\n",
        "modeled_y = model.predict(x.reshape(-1, 1))\n",
        "matplotlib.pyplot.plot(x, modeled_y)"
      ],
      "execution_count": null,
      "outputs": [
        {
          "output_type": "stream",
          "name": "stdout",
          "text": [
            "0.4344602278689636\n",
            "0.4692809584590414\n",
            "0.2880220437675311\n",
            "0.36283148992265035\n",
            "[23.26873934]\n",
            "[[1.         0.12105564]\n",
            " [0.12105564 1.        ]]\n",
            "<matplotlib.collections.PathCollection object at 0x7f1bb54ce290>\n",
            "0.01465446762212741\n"
          ]
        },
        {
          "output_type": "execute_result",
          "data": {
            "text/plain": [
              "[<matplotlib.lines.Line2D at 0x7f1bb543f650>]"
            ]
          },
          "metadata": {},
          "execution_count": 9
        },
        {
          "output_type": "display_data",
          "data": {
            "image/png": "[encoded data removed]",
            "text/plain": [
              "<Figure size 432x288 with 1 Axes>"
            ]
          },
          "metadata": {
            "needs_background": "light"
          }
        }
      ]
    },
    {
      "cell_type": "code",
      "metadata": {
        "colab": {
          "base_uri": "https://localhost:8080/",
          "height": 298
        },
        "id": "hxkRzh1Zdso8",
        "outputId": "233e32bf-754f-433f-b133-66d414e10d65"
      },
      "source": [
        "import numpy as np\n",
        "import pandas as pd\n",
        "from sklearn.linear_model import LinearRegression\n",
        "from scipy import stats\n",
        "import matplotlib\n",
        "\n",
        "x = np.random.rand(100)\n",
        "y = np.random.rand(100)\n",
        "z = x + y\n",
        "\n",
        "matplotlib.pyplot.scatter(x, z)\n",
        "model = LinearRegression().fit(x.reshape(-1, 1), z.reshape(-1, 1))\n",
        "\n",
        "r= model.score(x.reshape(-1, 1), z.reshape(-1, 1))\n",
        "print(r)\n",
        "\n",
        "modeled_z = model.predict(x.reshape(-1, 1))\n",
        "matplotlib.pyplot.plot(x, modeled_z)"
      ],
      "execution_count": null,
      "outputs": [
        {
          "output_type": "stream",
          "name": "stdout",
          "text": [
            "0.5696704353515828\n"
          ]
        },
        {
          "output_type": "execute_result",
          "data": {
            "text/plain": [
              "[<matplotlib.lines.Line2D at 0x7f1bb49b70d0>]"
            ]
          },
          "metadata": {},
          "execution_count": 10
        },
        {
          "output_type": "display_data",
          "data": {
            "image/png": "[encoded data removed]",
            "text/plain": [
              "<Figure size 432x288 with 1 Axes>"
            ]
          },
          "metadata": {
            "needs_background": "light"
          }
        }
      ]
    }
  ]
}